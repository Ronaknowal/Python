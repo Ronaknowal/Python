{
  "nbformat": 4,
  "nbformat_minor": 0,
  "metadata": {
    "colab": {
      "provenance": [],
      "authorship_tag": "ABX9TyN9a7K2ZO2FBegQHMsrNM6+",
      "include_colab_link": true
    },
    "kernelspec": {
      "name": "python3",
      "display_name": "Python 3"
    },
    "language_info": {
      "name": "python"
    }
  },
  "cells": [
    {
      "cell_type": "markdown",
      "metadata": {
        "id": "view-in-github",
        "colab_type": "text"
      },
      "source": [
        "<a href=\"https://colab.research.google.com/github/Ronaknowal/Python/blob/main/SmartBridgePython.ipynb\" target=\"_parent\"><img src=\"https://colab.research.google.com/assets/colab-badge.svg\" alt=\"Open In Colab\"/></a>"
      ]
    },
    {
      "cell_type": "code",
      "execution_count": null,
      "metadata": {
        "id": "V2rtLC4umkd5"
      },
      "outputs": [],
      "source": [
        "a=12"
      ]
    },
    {
      "cell_type": "code",
      "source": [
        "print(a)"
      ],
      "metadata": {
        "colab": {
          "base_uri": "https://localhost:8080/"
        },
        "id": "ZQ2LBZbumyt3",
        "outputId": "64b9b0a3-bf6b-4f52-82a4-6ddb45a5db45"
      },
      "execution_count": null,
      "outputs": [
        {
          "output_type": "stream",
          "name": "stdout",
          "text": [
            "12\n"
          ]
        }
      ]
    },
    {
      "cell_type": "code",
      "source": [
        "#this is a comment\n",
        "'''this is a multiline \n",
        "comment'''"
      ],
      "metadata": {
        "colab": {
          "base_uri": "https://localhost:8080/",
          "height": 36
        },
        "id": "AcXlgsB7m2Mh",
        "outputId": "23ad96b4-4b24-493b-80dd-b6b64b9126d3"
      },
      "execution_count": null,
      "outputs": [
        {
          "output_type": "execute_result",
          "data": {
            "text/plain": [
              "'this is a multiline \\ncomment'"
            ],
            "application/vnd.google.colaboratory.intrinsic+json": {
              "type": "string"
            }
          },
          "metadata": {},
          "execution_count": 3
        }
      ]
    },
    {
      "cell_type": "code",
      "source": [
        "a=11+22\n",
        "-11\n",
        "print(a)"
      ],
      "metadata": {
        "colab": {
          "base_uri": "https://localhost:8080/"
        },
        "id": "LlrXSUQTnP2E",
        "outputId": "4003c622-8e75-4d73-cb55-2821d8406460"
      },
      "execution_count": null,
      "outputs": [
        {
          "output_type": "stream",
          "name": "stdout",
          "text": [
            "33\n"
          ]
        }
      ]
    },
    {
      "cell_type": "code",
      "source": [
        "112\n",
        "12\n",
        "334"
      ],
      "metadata": {
        "colab": {
          "base_uri": "https://localhost:8080/"
        },
        "id": "ZZAIHC2ungXI",
        "outputId": "0b5594ac-3970-488c-9c3d-0e6d311c755a"
      },
      "execution_count": null,
      "outputs": [
        {
          "output_type": "execute_result",
          "data": {
            "text/plain": [
              "334"
            ]
          },
          "metadata": {},
          "execution_count": 8
        }
      ]
    },
    {
      "cell_type": "code",
      "source": [
        "a=11+22\\\n",
        "-21\n",
        "print(a)"
      ],
      "metadata": {
        "colab": {
          "base_uri": "https://localhost:8080/"
        },
        "id": "kWy72ztMnqNg",
        "outputId": "0da4d64b-4e22-48a5-a373-7c88c9806f95"
      },
      "execution_count": null,
      "outputs": [
        {
          "output_type": "stream",
          "name": "stdout",
          "text": [
            "12\n"
          ]
        }
      ]
    },
    {
      "cell_type": "code",
      "source": [
        "a=11+23\\\n",
        "+33\\\n",
        "-50\n",
        "print(a)"
      ],
      "metadata": {
        "colab": {
          "base_uri": "https://localhost:8080/"
        },
        "id": "SaFnXp2pn8ld",
        "outputId": "bb3ed14d-4773-4ce3-e967-57ee49a07d6c"
      },
      "execution_count": null,
      "outputs": [
        {
          "output_type": "stream",
          "name": "stdout",
          "text": [
            "17\n"
          ]
        }
      ]
    },
    {
      "cell_type": "markdown",
      "source": [
        "# Data Type"
      ],
      "metadata": {
        "id": "kgM47js1c84F"
      }
    },
    {
      "cell_type": "code",
      "source": [
        "var_1=5\n",
        "var_2=5.5\n",
        "var_3=5+5j\n",
        "print(type(var_1))\n",
        "print(type(var_2))\n",
        "print(type(var_3))"
      ],
      "metadata": {
        "colab": {
          "base_uri": "https://localhost:8080/"
        },
        "id": "EqxQfpYYYi3m",
        "outputId": "9d496d5f-3af1-4edd-a853-e212d4e0a7ee"
      },
      "execution_count": null,
      "outputs": [
        {
          "output_type": "stream",
          "name": "stdout",
          "text": [
            "<class 'int'>\n",
            "<class 'float'>\n",
            "<class 'complex'>\n"
          ]
        }
      ]
    },
    {
      "cell_type": "code",
      "source": [
        "print(\"The data type of variable var_1 is \"+str(type(var_1)))"
      ],
      "metadata": {
        "colab": {
          "base_uri": "https://localhost:8080/"
        },
        "id": "LgCjvydpZhjg",
        "outputId": "f5b3796f-3615-47cd-88fc-f1779b2034fb"
      },
      "execution_count": null,
      "outputs": [
        {
          "output_type": "stream",
          "name": "stdout",
          "text": [
            "The data type of variable var_1 is <class 'int'>\n"
          ]
        }
      ]
    },
    {
      "cell_type": "markdown",
      "source": [
        "We can't concatenate just type(var_1) with the string because the output of its datatype is not string but rather its a completely different datatype called type."
      ],
      "metadata": {
        "id": "cTXCKywVa7ev"
      }
    },
    {
      "cell_type": "code",
      "source": [
        "type(var_1)"
      ],
      "metadata": {
        "colab": {
          "base_uri": "https://localhost:8080/"
        },
        "id": "UdgWuo3ibW_-",
        "outputId": "813c4ba0-3076-46fe-9aeb-b22326a0609e"
      },
      "execution_count": null,
      "outputs": [
        {
          "output_type": "execute_result",
          "data": {
            "text/plain": [
              "int"
            ]
          },
          "metadata": {},
          "execution_count": 22
        }
      ]
    },
    {
      "cell_type": "code",
      "source": [
        "type(type(var_1))"
      ],
      "metadata": {
        "colab": {
          "base_uri": "https://localhost:8080/"
        },
        "id": "hkopVFRhagub",
        "outputId": "df283c75-503b-4d03-c77c-f163dbb17f27"
      },
      "execution_count": null,
      "outputs": [
        {
          "output_type": "execute_result",
          "data": {
            "text/plain": [
              "type"
            ]
          },
          "metadata": {},
          "execution_count": 21
        }
      ]
    },
    {
      "cell_type": "code",
      "source": [
        "5+64"
      ],
      "metadata": {
        "colab": {
          "base_uri": "https://localhost:8080/"
        },
        "id": "GDneF4dWaz2i",
        "outputId": "ce414feb-c3d3-40b2-a158-f9b3a2929881"
      },
      "execution_count": null,
      "outputs": [
        {
          "output_type": "execute_result",
          "data": {
            "text/plain": [
              "69"
            ]
          },
          "metadata": {},
          "execution_count": 25
        }
      ]
    },
    {
      "cell_type": "code",
      "source": [
        "'X'+'D'"
      ],
      "metadata": {
        "colab": {
          "base_uri": "https://localhost:8080/",
          "height": 36
        },
        "id": "xzWX6i81bkGa",
        "outputId": "2b64cc5f-373b-439e-824e-d8c930f47b21"
      },
      "execution_count": null,
      "outputs": [
        {
          "output_type": "execute_result",
          "data": {
            "text/plain": [
              "'XD'"
            ],
            "application/vnd.google.colaboratory.intrinsic+json": {
              "type": "string"
            }
          },
          "metadata": {},
          "execution_count": 26
        }
      ]
    },
    {
      "cell_type": "code",
      "source": [
        "#Can't add or concatenate two different data types\n",
        "# Code: 0+'M'\n",
        "# Output : TypeError"
      ],
      "metadata": {
        "id": "9Vtw-6nfdEcr"
      },
      "execution_count": null,
      "outputs": []
    },
    {
      "cell_type": "markdown",
      "source": [
        "# Sequence type\n"
      ],
      "metadata": {
        "id": "BnCXayzAcKaV"
      }
    },
    {
      "cell_type": "markdown",
      "source": [
        "## List(ordered,mutable,allow duplicates)"
      ],
      "metadata": {
        "id": "xWXujn4Rcnu6"
      }
    },
    {
      "cell_type": "code",
      "source": [
        "list1=[1,2,3,1,'hello','Hi',2.0,3.2]\n",
        "print(list1)"
      ],
      "metadata": {
        "colab": {
          "base_uri": "https://localhost:8080/"
        },
        "id": "cEOWLTfUc060",
        "outputId": "f62f63f5-7d95-48a5-df4f-029e067cee2e"
      },
      "execution_count": null,
      "outputs": [
        {
          "output_type": "stream",
          "name": "stdout",
          "text": [
            "[1, 2, 3, 1, 'hello', 'Hi', 2.0, 3.2]\n"
          ]
        }
      ]
    },
    {
      "cell_type": "code",
      "source": [
        "list1[5]"
      ],
      "metadata": {
        "colab": {
          "base_uri": "https://localhost:8080/",
          "height": 36
        },
        "id": "2gSUKBhDd_F3",
        "outputId": "2ed9c0cb-dfa3-4ecb-8d00-08900ab7a21f"
      },
      "execution_count": null,
      "outputs": [
        {
          "output_type": "execute_result",
          "data": {
            "text/plain": [
              "'Hi'"
            ],
            "application/vnd.google.colaboratory.intrinsic+json": {
              "type": "string"
            }
          },
          "metadata": {},
          "execution_count": 32
        }
      ]
    },
    {
      "cell_type": "code",
      "source": [
        "list1[-2]"
      ],
      "metadata": {
        "colab": {
          "base_uri": "https://localhost:8080/"
        },
        "id": "-l2Ar5bceP1S",
        "outputId": "0c3f1b7b-3631-41e2-fbe8-29f2e63f3188"
      },
      "execution_count": null,
      "outputs": [
        {
          "output_type": "execute_result",
          "data": {
            "text/plain": [
              "2.0"
            ]
          },
          "metadata": {},
          "execution_count": 33
        }
      ]
    },
    {
      "cell_type": "markdown",
      "source": [
        "xxxxxxxxxxxx              1 , 2, 3, 1, 'hello', 'Hi', 2.0, 3.2\n",
        "\n",
        "---\n",
        "\n",
        "\n",
        "Pos Indexing: 0 , 1, 2, 3,    4   ,  5  ,  6 ,  7\n",
        "\n",
        "---\n",
        "\n",
        "\n",
        "Neg Indexing: -8,-7,-6,-5,   -4   , -3  , -2 , -1"
      ],
      "metadata": {
        "id": "ln51p_eOeZvh"
      }
    },
    {
      "cell_type": "markdown",
      "source": [
        "### Slicing"
      ],
      "metadata": {
        "id": "CYxwBSd1f-sr"
      }
    },
    {
      "cell_type": "code",
      "source": [
        "list1[1:4]"
      ],
      "metadata": {
        "colab": {
          "base_uri": "https://localhost:8080/"
        },
        "id": "oT5l-T1eeUVt",
        "outputId": "9ffed8b1-27f6-4adf-87fb-52c44d723437"
      },
      "execution_count": null,
      "outputs": [
        {
          "output_type": "execute_result",
          "data": {
            "text/plain": [
              "[2, 3, 1]"
            ]
          },
          "metadata": {},
          "execution_count": 36
        }
      ]
    },
    {
      "cell_type": "code",
      "source": [
        "list1[-1:-4]"
      ],
      "metadata": {
        "colab": {
          "base_uri": "https://localhost:8080/"
        },
        "id": "Ath1vRD9gPPV",
        "outputId": "9e7cb4d2-84c7-4fb3-cdb6-13fb8cad3839"
      },
      "execution_count": null,
      "outputs": [
        {
          "output_type": "execute_result",
          "data": {
            "text/plain": [
              "[]"
            ]
          },
          "metadata": {},
          "execution_count": 38
        }
      ]
    },
    {
      "cell_type": "code",
      "source": [
        "list1[-4:-1]"
      ],
      "metadata": {
        "colab": {
          "base_uri": "https://localhost:8080/"
        },
        "id": "go_h8hXtgd6X",
        "outputId": "590aab8e-4566-4e0e-ba42-184a09e3e97d"
      },
      "execution_count": null,
      "outputs": [
        {
          "output_type": "execute_result",
          "data": {
            "text/plain": [
              "['hello', 'Hi', 2.0]"
            ]
          },
          "metadata": {},
          "execution_count": 39
        }
      ]
    },
    {
      "cell_type": "markdown",
      "source": [
        "## Tupple(ordered,indexing,slicing,immutable,allows duplicates)"
      ],
      "metadata": {
        "id": "H_oiJqKci1Mx"
      }
    },
    {
      "cell_type": "code",
      "source": [
        "tup1=(1,2,3,1,'hello','Hi',2.0,3.2)\n",
        "print(tup1)"
      ],
      "metadata": {
        "id": "OtnLf2q6goaS",
        "colab": {
          "base_uri": "https://localhost:8080/"
        },
        "outputId": "9bc041e4-e211-4741-dee0-426af52c5100"
      },
      "execution_count": 11,
      "outputs": [
        {
          "output_type": "stream",
          "name": "stdout",
          "text": [
            "(1, 2, 3, 1, 'hello', 'Hi', 2.0, 3.2)\n"
          ]
        }
      ]
    },
    {
      "cell_type": "code",
      "source": [
        "tup1[1]"
      ],
      "metadata": {
        "id": "O2z0PRWAl3Fq",
        "outputId": "97e94ec0-dd55-4999-f1f9-e0cbe1dabca5",
        "colab": {
          "base_uri": "https://localhost:8080/"
        }
      },
      "execution_count": 2,
      "outputs": [
        {
          "output_type": "execute_result",
          "data": {
            "text/plain": [
              "2"
            ]
          },
          "metadata": {},
          "execution_count": 2
        }
      ]
    },
    {
      "cell_type": "code",
      "source": [
        "tup1[0:3]"
      ],
      "metadata": {
        "id": "dY0mYzzGmgBq",
        "outputId": "ed4ff1cf-2811-4466-f6d7-549c8ac14bd9",
        "colab": {
          "base_uri": "https://localhost:8080/"
        }
      },
      "execution_count": 3,
      "outputs": [
        {
          "output_type": "execute_result",
          "data": {
            "text/plain": [
              "(1, 2, 3)"
            ]
          },
          "metadata": {},
          "execution_count": 3
        }
      ]
    },
    {
      "cell_type": "code",
      "source": [
        "#Tuples are immutable so we cant't change values at later state\n",
        "#Code: tup1[1]=3\n",
        "#Output: TypeError: 'tuple' object does not support item assignment"
      ],
      "metadata": {
        "id": "H2PES6gEmkRl"
      },
      "execution_count": 5,
      "outputs": []
    },
    {
      "cell_type": "code",
      "source": [
        "a,b,c='hi', 'hello','bye'\n",
        "type(a),type(b),type(c)"
      ],
      "metadata": {
        "id": "6U9tIjFEmumQ",
        "outputId": "2c497651-a32a-4b85-8832-8f6b6d14b7b9",
        "colab": {
          "base_uri": "https://localhost:8080/"
        }
      },
      "execution_count": 9,
      "outputs": [
        {
          "output_type": "execute_result",
          "data": {
            "text/plain": [
              "(str, str, str)"
            ]
          },
          "metadata": {},
          "execution_count": 9
        }
      ]
    },
    {
      "cell_type": "markdown",
      "source": [
        "## Set(Dosen't allow duplicates,unordered, no indexing & slicing,immutable)"
      ],
      "metadata": {
        "id": "kwl0kRWDoG-T"
      }
    },
    {
      "cell_type": "code",
      "source": [
        "set1={1,2,3,1,'hello','Hi',2.0,3.2}"
      ],
      "metadata": {
        "id": "_VB1-joXnly-"
      },
      "execution_count": 10,
      "outputs": []
    },
    {
      "cell_type": "code",
      "source": [
        "print(set1)"
      ],
      "metadata": {
        "id": "v-zz9ttao-Rn",
        "outputId": "b6c07600-7a33-4385-e2f5-28055f7e615a",
        "colab": {
          "base_uri": "https://localhost:8080/"
        }
      },
      "execution_count": 13,
      "outputs": [
        {
          "output_type": "stream",
          "name": "stdout",
          "text": [
            "{1, 2, 3, 3.2, 'Hi', 'hello'}\n"
          ]
        }
      ]
    },
    {
      "cell_type": "code",
      "source": [
        "#There is no indexing in set\n",
        "#code: set1[3]\n",
        "#output: TypeError: 'set' object is not subscriptable"
      ],
      "metadata": {
        "id": "xOKLZ4nupMA3"
      },
      "execution_count": 15,
      "outputs": []
    },
    {
      "cell_type": "code",
      "source": [],
      "metadata": {
        "id": "1O1IsvLopYPQ"
      },
      "execution_count": null,
      "outputs": []
    }
  ]
}