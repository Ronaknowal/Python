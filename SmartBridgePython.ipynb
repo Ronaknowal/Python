{
  "nbformat": 4,
  "nbformat_minor": 0,
  "metadata": {
    "colab": {
      "provenance": [],
      "authorship_tag": "ABX9TyNTJg3/ClopEDUCViEAuz3a",
      "include_colab_link": true
    },
    "kernelspec": {
      "name": "python3",
      "display_name": "Python 3"
    },
    "language_info": {
      "name": "python"
    }
  },
  "cells": [
    {
      "cell_type": "markdown",
      "metadata": {
        "id": "view-in-github",
        "colab_type": "text"
      },
      "source": [
        "<a href=\"https://colab.research.google.com/github/Ronaknowal/Python/blob/main/SmartBridgePython.ipynb\" target=\"_parent\"><img src=\"https://colab.research.google.com/assets/colab-badge.svg\" alt=\"Open In Colab\"/></a>"
      ]
    },
    {
      "cell_type": "code",
      "execution_count": null,
      "metadata": {
        "id": "V2rtLC4umkd5"
      },
      "outputs": [],
      "source": [
        "a=12"
      ]
    },
    {
      "cell_type": "code",
      "source": [
        "print(a)"
      ],
      "metadata": {
        "colab": {
          "base_uri": "https://localhost:8080/"
        },
        "id": "ZQ2LBZbumyt3",
        "outputId": "64b9b0a3-bf6b-4f52-82a4-6ddb45a5db45"
      },
      "execution_count": null,
      "outputs": [
        {
          "output_type": "stream",
          "name": "stdout",
          "text": [
            "12\n"
          ]
        }
      ]
    },
    {
      "cell_type": "code",
      "source": [
        "#this is a comment\n",
        "'''this is a multiline \n",
        "comment'''"
      ],
      "metadata": {
        "colab": {
          "base_uri": "https://localhost:8080/",
          "height": 36
        },
        "id": "AcXlgsB7m2Mh",
        "outputId": "23ad96b4-4b24-493b-80dd-b6b64b9126d3"
      },
      "execution_count": null,
      "outputs": [
        {
          "output_type": "execute_result",
          "data": {
            "text/plain": [
              "'this is a multiline \\ncomment'"
            ],
            "application/vnd.google.colaboratory.intrinsic+json": {
              "type": "string"
            }
          },
          "metadata": {},
          "execution_count": 3
        }
      ]
    },
    {
      "cell_type": "code",
      "source": [
        "a=11+22\n",
        "-11\n",
        "print(a)"
      ],
      "metadata": {
        "colab": {
          "base_uri": "https://localhost:8080/"
        },
        "id": "LlrXSUQTnP2E",
        "outputId": "4003c622-8e75-4d73-cb55-2821d8406460"
      },
      "execution_count": null,
      "outputs": [
        {
          "output_type": "stream",
          "name": "stdout",
          "text": [
            "33\n"
          ]
        }
      ]
    },
    {
      "cell_type": "code",
      "source": [
        "112\n",
        "12\n",
        "334"
      ],
      "metadata": {
        "colab": {
          "base_uri": "https://localhost:8080/"
        },
        "id": "ZZAIHC2ungXI",
        "outputId": "0b5594ac-3970-488c-9c3d-0e6d311c755a"
      },
      "execution_count": null,
      "outputs": [
        {
          "output_type": "execute_result",
          "data": {
            "text/plain": [
              "334"
            ]
          },
          "metadata": {},
          "execution_count": 8
        }
      ]
    },
    {
      "cell_type": "code",
      "source": [
        "a=11+22\\\n",
        "-21\n",
        "print(a)"
      ],
      "metadata": {
        "colab": {
          "base_uri": "https://localhost:8080/"
        },
        "id": "kWy72ztMnqNg",
        "outputId": "0da4d64b-4e22-48a5-a373-7c88c9806f95"
      },
      "execution_count": null,
      "outputs": [
        {
          "output_type": "stream",
          "name": "stdout",
          "text": [
            "12\n"
          ]
        }
      ]
    },
    {
      "cell_type": "code",
      "source": [
        "a=11+23\\\n",
        "+33\\\n",
        "-50\n",
        "print(a)"
      ],
      "metadata": {
        "colab": {
          "base_uri": "https://localhost:8080/"
        },
        "id": "SaFnXp2pn8ld",
        "outputId": "bb3ed14d-4773-4ce3-e967-57ee49a07d6c"
      },
      "execution_count": null,
      "outputs": [
        {
          "output_type": "stream",
          "name": "stdout",
          "text": [
            "17\n"
          ]
        }
      ]
    },
    {
      "cell_type": "markdown",
      "source": [
        "# Data Type"
      ],
      "metadata": {
        "id": "kgM47js1c84F"
      }
    },
    {
      "cell_type": "code",
      "source": [
        "var_1=5\n",
        "var_2=5.5\n",
        "var_3=5+5j\n",
        "print(type(var_1))\n",
        "print(type(var_2))\n",
        "print(type(var_3))"
      ],
      "metadata": {
        "colab": {
          "base_uri": "https://localhost:8080/"
        },
        "id": "EqxQfpYYYi3m",
        "outputId": "9d496d5f-3af1-4edd-a853-e212d4e0a7ee"
      },
      "execution_count": null,
      "outputs": [
        {
          "output_type": "stream",
          "name": "stdout",
          "text": [
            "<class 'int'>\n",
            "<class 'float'>\n",
            "<class 'complex'>\n"
          ]
        }
      ]
    },
    {
      "cell_type": "code",
      "source": [
        "print(\"The data type of variable var_1 is \"+str(type(var_1)))"
      ],
      "metadata": {
        "colab": {
          "base_uri": "https://localhost:8080/"
        },
        "id": "LgCjvydpZhjg",
        "outputId": "f5b3796f-3615-47cd-88fc-f1779b2034fb"
      },
      "execution_count": null,
      "outputs": [
        {
          "output_type": "stream",
          "name": "stdout",
          "text": [
            "The data type of variable var_1 is <class 'int'>\n"
          ]
        }
      ]
    },
    {
      "cell_type": "markdown",
      "source": [
        "We can't concatenate just type(var_1) with the string because the output of its datatype is not string but rather its a completely different datatype called type."
      ],
      "metadata": {
        "id": "cTXCKywVa7ev"
      }
    },
    {
      "cell_type": "code",
      "source": [
        "type(var_1)"
      ],
      "metadata": {
        "colab": {
          "base_uri": "https://localhost:8080/"
        },
        "id": "UdgWuo3ibW_-",
        "outputId": "813c4ba0-3076-46fe-9aeb-b22326a0609e"
      },
      "execution_count": null,
      "outputs": [
        {
          "output_type": "execute_result",
          "data": {
            "text/plain": [
              "int"
            ]
          },
          "metadata": {},
          "execution_count": 22
        }
      ]
    },
    {
      "cell_type": "code",
      "source": [
        "type(type(var_1))"
      ],
      "metadata": {
        "colab": {
          "base_uri": "https://localhost:8080/"
        },
        "id": "hkopVFRhagub",
        "outputId": "df283c75-503b-4d03-c77c-f163dbb17f27"
      },
      "execution_count": null,
      "outputs": [
        {
          "output_type": "execute_result",
          "data": {
            "text/plain": [
              "type"
            ]
          },
          "metadata": {},
          "execution_count": 21
        }
      ]
    },
    {
      "cell_type": "code",
      "source": [
        "5+64"
      ],
      "metadata": {
        "colab": {
          "base_uri": "https://localhost:8080/"
        },
        "id": "GDneF4dWaz2i",
        "outputId": "ce414feb-c3d3-40b2-a158-f9b3a2929881"
      },
      "execution_count": null,
      "outputs": [
        {
          "output_type": "execute_result",
          "data": {
            "text/plain": [
              "69"
            ]
          },
          "metadata": {},
          "execution_count": 25
        }
      ]
    },
    {
      "cell_type": "code",
      "source": [
        "'X'+'D'"
      ],
      "metadata": {
        "colab": {
          "base_uri": "https://localhost:8080/",
          "height": 36
        },
        "id": "xzWX6i81bkGa",
        "outputId": "2b64cc5f-373b-439e-824e-d8c930f47b21"
      },
      "execution_count": null,
      "outputs": [
        {
          "output_type": "execute_result",
          "data": {
            "text/plain": [
              "'XD'"
            ],
            "application/vnd.google.colaboratory.intrinsic+json": {
              "type": "string"
            }
          },
          "metadata": {},
          "execution_count": 26
        }
      ]
    },
    {
      "cell_type": "code",
      "source": [
        "#Can't add or concatenate two different data types\n",
        "# Code: 0+'M'\n",
        "# Output : TypeError"
      ],
      "metadata": {
        "id": "9Vtw-6nfdEcr"
      },
      "execution_count": null,
      "outputs": []
    },
    {
      "cell_type": "markdown",
      "source": [
        "# Sequence type\n"
      ],
      "metadata": {
        "id": "BnCXayzAcKaV"
      }
    },
    {
      "cell_type": "markdown",
      "source": [
        "## List(ordered,mutable,allow duplicates)"
      ],
      "metadata": {
        "id": "xWXujn4Rcnu6"
      }
    },
    {
      "cell_type": "code",
      "source": [
        "list1=[1,2,3,1,'hello','Hi',2.0,3.2]\n",
        "print(list1)"
      ],
      "metadata": {
        "colab": {
          "base_uri": "https://localhost:8080/"
        },
        "id": "cEOWLTfUc060",
        "outputId": "f62f63f5-7d95-48a5-df4f-029e067cee2e"
      },
      "execution_count": null,
      "outputs": [
        {
          "output_type": "stream",
          "name": "stdout",
          "text": [
            "[1, 2, 3, 1, 'hello', 'Hi', 2.0, 3.2]\n"
          ]
        }
      ]
    },
    {
      "cell_type": "code",
      "source": [
        "list1[5]"
      ],
      "metadata": {
        "colab": {
          "base_uri": "https://localhost:8080/",
          "height": 36
        },
        "id": "2gSUKBhDd_F3",
        "outputId": "2ed9c0cb-dfa3-4ecb-8d00-08900ab7a21f"
      },
      "execution_count": null,
      "outputs": [
        {
          "output_type": "execute_result",
          "data": {
            "text/plain": [
              "'Hi'"
            ],
            "application/vnd.google.colaboratory.intrinsic+json": {
              "type": "string"
            }
          },
          "metadata": {},
          "execution_count": 32
        }
      ]
    },
    {
      "cell_type": "code",
      "source": [
        "list1[-2]"
      ],
      "metadata": {
        "colab": {
          "base_uri": "https://localhost:8080/"
        },
        "id": "-l2Ar5bceP1S",
        "outputId": "0c3f1b7b-3631-41e2-fbe8-29f2e63f3188"
      },
      "execution_count": null,
      "outputs": [
        {
          "output_type": "execute_result",
          "data": {
            "text/plain": [
              "2.0"
            ]
          },
          "metadata": {},
          "execution_count": 33
        }
      ]
    },
    {
      "cell_type": "markdown",
      "source": [
        "xxxxxxxxxxxx              1 , 2, 3, 1, 'hello', 'Hi', 2.0, 3.2\n",
        "\n",
        "---\n",
        "\n",
        "\n",
        "Pos Indexing: 0 , 1, 2, 3,    4   ,  5  ,  6 ,  7\n",
        "\n",
        "---\n",
        "\n",
        "\n",
        "Neg Indexing: -8,-7,-6,-5,   -4   , -3  , -2 , -1"
      ],
      "metadata": {
        "id": "ln51p_eOeZvh"
      }
    },
    {
      "cell_type": "markdown",
      "source": [
        "### Slicing"
      ],
      "metadata": {
        "id": "CYxwBSd1f-sr"
      }
    },
    {
      "cell_type": "code",
      "source": [
        "list1[1:4]"
      ],
      "metadata": {
        "colab": {
          "base_uri": "https://localhost:8080/"
        },
        "id": "oT5l-T1eeUVt",
        "outputId": "9ffed8b1-27f6-4adf-87fb-52c44d723437"
      },
      "execution_count": null,
      "outputs": [
        {
          "output_type": "execute_result",
          "data": {
            "text/plain": [
              "[2, 3, 1]"
            ]
          },
          "metadata": {},
          "execution_count": 36
        }
      ]
    },
    {
      "cell_type": "code",
      "source": [
        "list1[-1:-4]"
      ],
      "metadata": {
        "colab": {
          "base_uri": "https://localhost:8080/"
        },
        "id": "Ath1vRD9gPPV",
        "outputId": "9e7cb4d2-84c7-4fb3-cdb6-13fb8cad3839"
      },
      "execution_count": null,
      "outputs": [
        {
          "output_type": "execute_result",
          "data": {
            "text/plain": [
              "[]"
            ]
          },
          "metadata": {},
          "execution_count": 38
        }
      ]
    },
    {
      "cell_type": "code",
      "source": [
        "list1[-4:-1]"
      ],
      "metadata": {
        "colab": {
          "base_uri": "https://localhost:8080/"
        },
        "id": "go_h8hXtgd6X",
        "outputId": "590aab8e-4566-4e0e-ba42-184a09e3e97d"
      },
      "execution_count": null,
      "outputs": [
        {
          "output_type": "execute_result",
          "data": {
            "text/plain": [
              "['hello', 'Hi', 2.0]"
            ]
          },
          "metadata": {},
          "execution_count": 39
        }
      ]
    },
    {
      "cell_type": "markdown",
      "source": [
        "## Tupple(ordered,indexing,slicing,immutable,allows duplicates)"
      ],
      "metadata": {
        "id": "H_oiJqKci1Mx"
      }
    },
    {
      "cell_type": "code",
      "source": [
        "tup1=(1,2,3,1,'hello','Hi',2.0,3.2)\n",
        "print(tup1)"
      ],
      "metadata": {
        "id": "OtnLf2q6goaS",
        "colab": {
          "base_uri": "https://localhost:8080/"
        },
        "outputId": "9bc041e4-e211-4741-dee0-426af52c5100"
      },
      "execution_count": null,
      "outputs": [
        {
          "output_type": "stream",
          "name": "stdout",
          "text": [
            "(1, 2, 3, 1, 'hello', 'Hi', 2.0, 3.2)\n"
          ]
        }
      ]
    },
    {
      "cell_type": "code",
      "source": [
        "tup1[1]"
      ],
      "metadata": {
        "id": "O2z0PRWAl3Fq",
        "outputId": "97e94ec0-dd55-4999-f1f9-e0cbe1dabca5",
        "colab": {
          "base_uri": "https://localhost:8080/"
        }
      },
      "execution_count": null,
      "outputs": [
        {
          "output_type": "execute_result",
          "data": {
            "text/plain": [
              "2"
            ]
          },
          "metadata": {},
          "execution_count": 2
        }
      ]
    },
    {
      "cell_type": "code",
      "source": [
        "tup1[0:3]"
      ],
      "metadata": {
        "id": "dY0mYzzGmgBq",
        "outputId": "ed4ff1cf-2811-4466-f6d7-549c8ac14bd9",
        "colab": {
          "base_uri": "https://localhost:8080/"
        }
      },
      "execution_count": null,
      "outputs": [
        {
          "output_type": "execute_result",
          "data": {
            "text/plain": [
              "(1, 2, 3)"
            ]
          },
          "metadata": {},
          "execution_count": 3
        }
      ]
    },
    {
      "cell_type": "code",
      "source": [
        "#Tuples are immutable so we cant't change values at later state\n",
        "#Code: tup1[1]=3\n",
        "#Output: TypeError: 'tuple' object does not support item assignment"
      ],
      "metadata": {
        "id": "H2PES6gEmkRl"
      },
      "execution_count": null,
      "outputs": []
    },
    {
      "cell_type": "code",
      "source": [
        "a,b,c='hi', 'hello','bye'\n",
        "type(a),type(b),type(c)"
      ],
      "metadata": {
        "id": "6U9tIjFEmumQ",
        "outputId": "2c497651-a32a-4b85-8832-8f6b6d14b7b9",
        "colab": {
          "base_uri": "https://localhost:8080/"
        }
      },
      "execution_count": null,
      "outputs": [
        {
          "output_type": "execute_result",
          "data": {
            "text/plain": [
              "(str, str, str)"
            ]
          },
          "metadata": {},
          "execution_count": 9
        }
      ]
    },
    {
      "cell_type": "markdown",
      "source": [
        "## Set(Dosen't allow duplicates,unordered, no indexing & slicing,immutable)"
      ],
      "metadata": {
        "id": "kwl0kRWDoG-T"
      }
    },
    {
      "cell_type": "code",
      "source": [
        "set1={1,2,3,1,'hello','Hi',2.0,3.2}"
      ],
      "metadata": {
        "id": "_VB1-joXnly-"
      },
      "execution_count": null,
      "outputs": []
    },
    {
      "cell_type": "code",
      "source": [
        "print(set1)"
      ],
      "metadata": {
        "id": "v-zz9ttao-Rn",
        "outputId": "b6c07600-7a33-4385-e2f5-28055f7e615a",
        "colab": {
          "base_uri": "https://localhost:8080/"
        }
      },
      "execution_count": null,
      "outputs": [
        {
          "output_type": "stream",
          "name": "stdout",
          "text": [
            "{1, 2, 3, 3.2, 'Hi', 'hello'}\n"
          ]
        }
      ]
    },
    {
      "cell_type": "code",
      "source": [
        "#There is no indexing in set\n",
        "#code: set1[3]\n",
        "#output: TypeError: 'set' object is not subscriptable"
      ],
      "metadata": {
        "id": "xOKLZ4nupMA3"
      },
      "execution_count": null,
      "outputs": []
    },
    {
      "cell_type": "markdown",
      "source": [
        "## Dictionary {key: values}"
      ],
      "metadata": {
        "id": "_rhDloNmo-JO"
      }
    },
    {
      "cell_type": "code",
      "source": [
        "dict_1={ 1: 'Ronak',\n",
        "        2: 'Sid',\n",
        "        3: 'Khushi',\n",
        "        4:'SK',\n",
        "        5:'Priyam',\n",
        "        6: 'Sujay',\n",
        "        7:'Yashwardhan'\n",
        "}"
      ],
      "metadata": {
        "id": "1O1IsvLopYPQ"
      },
      "execution_count": 1,
      "outputs": []
    },
    {
      "cell_type": "code",
      "source": [
        "dict_1"
      ],
      "metadata": {
        "id": "HepXNEikoN7k",
        "outputId": "3af61b11-0b1c-483f-80ec-c93e9252cc97",
        "colab": {
          "base_uri": "https://localhost:8080/"
        }
      },
      "execution_count": 3,
      "outputs": [
        {
          "output_type": "execute_result",
          "data": {
            "text/plain": [
              "{1: 'Ronak',\n",
              " 2: 'Sid',\n",
              " 3: 'Khushi',\n",
              " 4: 'SK',\n",
              " 5: 'Priyam',\n",
              " 6: 'Sujay',\n",
              " 7: 'Yashwardhan'}"
            ]
          },
          "metadata": {},
          "execution_count": 3
        }
      ]
    },
    {
      "cell_type": "code",
      "source": [
        "dict_1[1]"
      ],
      "metadata": {
        "id": "HDeQt55roYDV",
        "outputId": "e56ac60e-ac29-4783-e87e-a9d3543ccc90",
        "colab": {
          "base_uri": "https://localhost:8080/",
          "height": 36
        }
      },
      "execution_count": 4,
      "outputs": [
        {
          "output_type": "execute_result",
          "data": {
            "text/plain": [
              "'Ronak'"
            ],
            "application/vnd.google.colaboratory.intrinsic+json": {
              "type": "string"
            }
          },
          "metadata": {},
          "execution_count": 4
        }
      ]
    },
    {
      "cell_type": "code",
      "source": [
        "dict_1.keys()"
      ],
      "metadata": {
        "id": "1UwJckjLoxg2",
        "outputId": "544d70eb-d197-4987-a4b2-a22873d39c12",
        "colab": {
          "base_uri": "https://localhost:8080/"
        }
      },
      "execution_count": 5,
      "outputs": [
        {
          "output_type": "execute_result",
          "data": {
            "text/plain": [
              "dict_keys([1, 2, 3, 4, 5, 6, 7])"
            ]
          },
          "metadata": {},
          "execution_count": 5
        }
      ]
    },
    {
      "cell_type": "code",
      "source": [
        "dict_1.values()"
      ],
      "metadata": {
        "id": "qcuiduM9o1bw",
        "outputId": "59369b8f-5daa-419a-ba1f-ba1c23146049",
        "colab": {
          "base_uri": "https://localhost:8080/"
        }
      },
      "execution_count": 6,
      "outputs": [
        {
          "output_type": "execute_result",
          "data": {
            "text/plain": [
              "dict_values(['Ronak', 'Sid', 'Khushi', 'SK', 'Priyam', 'Sujay', 'Yashwardhan'])"
            ]
          },
          "metadata": {},
          "execution_count": 6
        }
      ]
    },
    {
      "cell_type": "code",
      "source": [
        "dict_1.items()"
      ],
      "metadata": {
        "id": "Sf-a72Mjo7Ub",
        "outputId": "6df70362-f048-48b5-bc51-fff3f02d7f00",
        "colab": {
          "base_uri": "https://localhost:8080/"
        }
      },
      "execution_count": 7,
      "outputs": [
        {
          "output_type": "execute_result",
          "data": {
            "text/plain": [
              "dict_items([(1, 'Ronak'), (2, 'Sid'), (3, 'Khushi'), (4, 'SK'), (5, 'Priyam'), (6, 'Sujay'), (7, 'Yashwardhan')])"
            ]
          },
          "metadata": {},
          "execution_count": 7
        }
      ]
    },
    {
      "cell_type": "code",
      "source": [
        "dict_1[1]='Pyaara ladka'"
      ],
      "metadata": {
        "id": "I1sWoVAxpWeT"
      },
      "execution_count": 8,
      "outputs": []
    },
    {
      "cell_type": "code",
      "source": [
        "dict_1"
      ],
      "metadata": {
        "id": "Dg5_HbS1ps9f",
        "outputId": "d7d9b2e0-b5f9-4ec3-e27b-889001e9b70f",
        "colab": {
          "base_uri": "https://localhost:8080/"
        }
      },
      "execution_count": 9,
      "outputs": [
        {
          "output_type": "execute_result",
          "data": {
            "text/plain": [
              "{1: 'Pyaara ladka',\n",
              " 2: 'Sid',\n",
              " 3: 'Khushi',\n",
              " 4: 'SK',\n",
              " 5: 'Priyam',\n",
              " 6: 'Sujay',\n",
              " 7: 'Yashwardhan'}"
            ]
          },
          "metadata": {},
          "execution_count": 9
        }
      ]
    },
    {
      "cell_type": "code",
      "source": [
        "dict_1={'Name': ['Ronak','Sid','Khushi','SK','Priyam','Sujay','Yashwardhan','Shubham'],\n",
        "        'Uni':'VIT Bhopal',\n",
        "        'Batch':2020}"
      ],
      "metadata": {
        "id": "R3YstJP5pu3m"
      },
      "execution_count": 22,
      "outputs": []
    },
    {
      "cell_type": "code",
      "source": [
        "type(dict_1)"
      ],
      "metadata": {
        "id": "J1akK4E6qr4u",
        "outputId": "e5f4b0f9-a0ed-461a-8d87-172212ca23b0",
        "colab": {
          "base_uri": "https://localhost:8080/"
        }
      },
      "execution_count": 23,
      "outputs": [
        {
          "output_type": "execute_result",
          "data": {
            "text/plain": [
              "dict"
            ]
          },
          "metadata": {},
          "execution_count": 23
        }
      ]
    },
    {
      "cell_type": "code",
      "source": [
        "dict_1['Name']"
      ],
      "metadata": {
        "id": "JFKat2JjqwPZ",
        "outputId": "da0e41ee-e5ea-405e-a9ac-0ddb71a9d3f4",
        "colab": {
          "base_uri": "https://localhost:8080/"
        }
      },
      "execution_count": 24,
      "outputs": [
        {
          "output_type": "execute_result",
          "data": {
            "text/plain": [
              "['Ronak', 'Sid', 'Khushi', 'SK', 'Priyam', 'Sujay', 'Yashwardhan', 'Shubham']"
            ]
          },
          "metadata": {},
          "execution_count": 24
        }
      ]
    },
    {
      "cell_type": "code",
      "source": [
        "type(dict_1['Name'])"
      ],
      "metadata": {
        "id": "A8i0iohBq14y",
        "outputId": "1f9d7c72-1477-43c4-b45f-f68d0635b94c",
        "colab": {
          "base_uri": "https://localhost:8080/"
        }
      },
      "execution_count": 25,
      "outputs": [
        {
          "output_type": "execute_result",
          "data": {
            "text/plain": [
              "list"
            ]
          },
          "metadata": {},
          "execution_count": 25
        }
      ]
    },
    {
      "cell_type": "code",
      "source": [
        "print(dict_1['Uni'])\n",
        "print(type(dict_1['Uni']))\n",
        "print(dict_1['Batch'])\n",
        "print(type(dict_1['Batch']))"
      ],
      "metadata": {
        "id": "R8JjStB3q9Na",
        "outputId": "bff3fa42-e4b9-478d-9fa8-87b69f524677",
        "colab": {
          "base_uri": "https://localhost:8080/"
        }
      },
      "execution_count": 26,
      "outputs": [
        {
          "output_type": "stream",
          "name": "stdout",
          "text": [
            "VIT Bhopal\n",
            "<class 'str'>\n",
            "2020\n",
            "<class 'int'>\n"
          ]
        }
      ]
    },
    {
      "cell_type": "code",
      "source": [
        "dict_1['Name'][1:]"
      ],
      "metadata": {
        "id": "Sk6Ge9V9rNB5",
        "outputId": "fd7cabe1-3181-4362-810b-2a746f7cf4c4",
        "colab": {
          "base_uri": "https://localhost:8080/"
        }
      },
      "execution_count": 27,
      "outputs": [
        {
          "output_type": "execute_result",
          "data": {
            "text/plain": [
              "['Sid', 'Khushi', 'SK', 'Priyam', 'Sujay', 'Yashwardhan', 'Shubham']"
            ]
          },
          "metadata": {},
          "execution_count": 27
        }
      ]
    },
    {
      "cell_type": "code",
      "source": [
        "dict_1['Name'][-3:]"
      ],
      "metadata": {
        "id": "f4zeu5A2rsrQ",
        "outputId": "49ae2878-a4a4-42ec-8bd8-07dccb4890f8",
        "colab": {
          "base_uri": "https://localhost:8080/"
        }
      },
      "execution_count": 28,
      "outputs": [
        {
          "output_type": "execute_result",
          "data": {
            "text/plain": [
              "['Sujay', 'Yashwardhan', 'Shubham']"
            ]
          },
          "metadata": {},
          "execution_count": 28
        }
      ]
    },
    {
      "cell_type": "code",
      "source": [
        "del dict_1"
      ],
      "metadata": {
        "id": "TTs9ucK7sBx4"
      },
      "execution_count": 29,
      "outputs": []
    },
    {
      "cell_type": "markdown",
      "source": [
        "# Conditional Statements"
      ],
      "metadata": {
        "id": "Rvaz0FpTtYbU"
      }
    },
    {
      "cell_type": "code",
      "source": [
        "  a=10\n",
        "  if a>9:\n",
        "    print(a)"
      ],
      "metadata": {
        "id": "LJTYxfdQsfg_",
        "outputId": "c196a76a-7754-4f29-caeb-01d324cc6c77",
        "colab": {
          "base_uri": "https://localhost:8080/"
        }
      },
      "execution_count": 31,
      "outputs": [
        {
          "output_type": "stream",
          "name": "stdout",
          "text": [
            "10\n"
          ]
        }
      ]
    },
    {
      "cell_type": "code",
      "source": [
        "a=int(input('Enter a value: '))  # Input function takes the input as a string so we need to convert it into int to compare the values\n",
        "if a>9:\n",
        "  print(a)"
      ],
      "metadata": {
        "id": "i6jSkIXauoUN",
        "outputId": "60d437ea-6835-4a21-8be2-8c0ac08c9cc6",
        "colab": {
          "base_uri": "https://localhost:8080/"
        }
      },
      "execution_count": 36,
      "outputs": [
        {
          "output_type": "stream",
          "name": "stdout",
          "text": [
            "Enter a value: 29\n",
            "29\n"
          ]
        }
      ]
    },
    {
      "cell_type": "code",
      "source": [
        "Name = input(\"Enter the Student's name: \")\n",
        "Univ = input(\"Enter the name of the university: \")\n",
        "Pron = input(\"Enter the student's pronoun (he/she/they): \")\n",
        "print(\"The student's name is\",Name,\"and\",Pron,\"is studying in\", Univ,\"University\") # No need for spacing in this statement between string and variable\n",
        "print(\"The student's name is \"+Name+\" and \"+Pron+\" is studying in \"+ Univ+\" University\")\n",
        "print(f\"The student's name is {Name} and {Pron} is studying in {Univ} University\")\n",
        "print(\"The student's name is {} and {} is studying in {} University\".format(Name,Pron,Univ))"
      ],
      "metadata": {
        "id": "GwfqDAHrvqEF",
        "outputId": "6a87f28a-d09d-4ba9-a740-f60bb6e88a33",
        "colab": {
          "base_uri": "https://localhost:8080/"
        }
      },
      "execution_count": 47,
      "outputs": [
        {
          "output_type": "stream",
          "name": "stdout",
          "text": [
            "Enter the Student's name: Ronak Sharma\n",
            "Enter the name of the university: VIT Bhopal\n",
            "Enter the student's pronoun (he/she/they): he\n",
            "The student's name is Ronak Sharma and he is studying in VIT Bhopal University\n",
            "The student's name is Ronak Sharma and he is studying in VIT Bhopal University\n",
            "The student's name is Ronak Sharma and he is studying in VIT Bhopal University\n",
            "The student's name is Ronak Sharma and he is studying in VIT Bhopal University\n"
          ]
        }
      ]
    },
    {
      "cell_type": "code",
      "source": [
        "x=int(input('Enter the vlue of x: '))\n",
        "if (x>5):\n",
        "  print('The value is greater than 5')\n",
        "elif x<5:\n",
        "  print('The value is less than 5')\n",
        "else:\n",
        "  print(f'The value is {x}')"
      ],
      "metadata": {
        "id": "FJQvzehU0GDf",
        "outputId": "89c7c1d4-2e1a-49ed-96d5-d52c66d0d079",
        "colab": {
          "base_uri": "https://localhost:8080/"
        }
      },
      "execution_count": 50,
      "outputs": [
        {
          "output_type": "stream",
          "name": "stdout",
          "text": [
            "Enter the vlue of x: 5\n",
            "The value is 5\n"
          ]
        }
      ]
    },
    {
      "cell_type": "markdown",
      "source": [
        "# Looping Statements(For, While)"
      ],
      "metadata": {
        "id": "J9X_xIyxtetJ"
      }
    },
    {
      "cell_type": "code",
      "source": [
        "for i in range(10):\n",
        "  print(i)\n",
        "  if i==5:\n",
        "    break"
      ],
      "metadata": {
        "id": "BCwZdmaMtoiB",
        "outputId": "6207249e-3e99-40bd-f01e-48178a003689",
        "colab": {
          "base_uri": "https://localhost:8080/"
        }
      },
      "execution_count": 52,
      "outputs": [
        {
          "output_type": "stream",
          "name": "stdout",
          "text": [
            "0\n",
            "1\n",
            "2\n",
            "3\n",
            "4\n",
            "5\n"
          ]
        }
      ]
    },
    {
      "cell_type": "code",
      "source": [
        "for i in range(10):\n",
        "  if i==5:\n",
        "    break\n",
        "  print(i)"
      ],
      "metadata": {
        "id": "DbXkuSGz1-P9",
        "outputId": "629ec23f-8ad1-4f79-df03-e7388995dda6",
        "colab": {
          "base_uri": "https://localhost:8080/"
        }
      },
      "execution_count": 53,
      "outputs": [
        {
          "output_type": "stream",
          "name": "stdout",
          "text": [
            "0\n",
            "1\n",
            "2\n",
            "3\n",
            "4\n"
          ]
        }
      ]
    },
    {
      "cell_type": "code",
      "source": [
        "for i in range(3,10):\n",
        "  print(i)\n",
        "  if i==5:\n",
        "    break"
      ],
      "metadata": {
        "id": "FELmAOc22NB3",
        "outputId": "0065813c-74bd-43a5-8cf4-fe3d0b55fada",
        "colab": {
          "base_uri": "https://localhost:8080/"
        }
      },
      "execution_count": 54,
      "outputs": [
        {
          "output_type": "stream",
          "name": "stdout",
          "text": [
            "3\n",
            "4\n",
            "5\n"
          ]
        }
      ]
    },
    {
      "cell_type": "code",
      "source": [
        "for i in 'Ronak':\n",
        "  print(i)"
      ],
      "metadata": {
        "id": "fHy9nAf_2RoR",
        "outputId": "ed6b4f8e-825b-448d-dc54-d13a3db80da3",
        "colab": {
          "base_uri": "https://localhost:8080/"
        }
      },
      "execution_count": 55,
      "outputs": [
        {
          "output_type": "stream",
          "name": "stdout",
          "text": [
            "R\n",
            "o\n",
            "n\n",
            "a\n",
            "k\n"
          ]
        }
      ]
    },
    {
      "cell_type": "code",
      "source": [
        "dict_1={'Name': ['Ronak','Sid','Khushi','SK','Priyam','Sujay','Yashwardhan','Shubham'],\n",
        "        'Uni':'VIT Bhopal',\n",
        "        'Batch':2020}"
      ],
      "metadata": {
        "id": "SafBdbAX3EDy"
      },
      "execution_count": 57,
      "outputs": []
    },
    {
      "cell_type": "code",
      "source": [
        "for i in dict_1['Name'][0]:\n",
        "  print(i)"
      ],
      "metadata": {
        "id": "CkGWn6vV2ts2",
        "outputId": "762436a7-e235-4e1e-a645-f197db1d0fe8",
        "colab": {
          "base_uri": "https://localhost:8080/"
        }
      },
      "execution_count": 58,
      "outputs": [
        {
          "output_type": "stream",
          "name": "stdout",
          "text": [
            "R\n",
            "o\n",
            "n\n",
            "a\n",
            "k\n"
          ]
        }
      ]
    },
    {
      "cell_type": "code",
      "source": [
        "del dict_1"
      ],
      "metadata": {
        "id": "qyJRoOPz3Hnu"
      },
      "execution_count": 59,
      "outputs": []
    },
    {
      "cell_type": "code",
      "source": [
        "a=5\n",
        "while(a<10):\n",
        "  print(a)\n",
        "  a+=1"
      ],
      "metadata": {
        "id": "8efgtE8x2dCx",
        "outputId": "87c4d144-15e3-48f5-8ca1-3b279ff2af2d",
        "colab": {
          "base_uri": "https://localhost:8080/"
        }
      },
      "execution_count": 62,
      "outputs": [
        {
          "output_type": "stream",
          "name": "stdout",
          "text": [
            "5\n",
            "6\n",
            "7\n",
            "8\n",
            "9\n"
          ]
        }
      ]
    },
    {
      "cell_type": "markdown",
      "source": [
        "## Break, Continue, Pass"
      ],
      "metadata": {
        "id": "zZsw4urb3zSI"
      }
    },
    {
      "cell_type": "code",
      "source": [
        "for i in range(20):\n",
        "  if i==7:\n",
        "    continue    # Skips and Jumps to the next iteration of the loop\n",
        "  if i==11:\n",
        "    pass        # When the pass statement is executed, nothing happens, but you avoid getting an error when empty code is not allowed. It can be used as a placeholder when the code is to be added later\n",
        "  if i==16:\n",
        "    break\n",
        "  print(i)"
      ],
      "metadata": {
        "id": "OCT5GCgD3SEs",
        "outputId": "d3462c0e-37e1-4e3f-f1d2-b2b9a2eab61c",
        "colab": {
          "base_uri": "https://localhost:8080/"
        }
      },
      "execution_count": 1,
      "outputs": [
        {
          "output_type": "stream",
          "name": "stdout",
          "text": [
            "0\n",
            "1\n",
            "2\n",
            "3\n",
            "4\n",
            "5\n",
            "6\n",
            "8\n",
            "9\n",
            "10\n",
            "11\n",
            "12\n",
            "13\n",
            "14\n",
            "15\n"
          ]
        }
      ]
    },
    {
      "cell_type": "markdown",
      "source": [
        "# Function\n",
        "\n",
        "```\n",
        "def functionName(args):\n",
        "  return output\n",
        "```\n",
        "\n"
      ],
      "metadata": {
        "id": "6O0Vj83FfDOH"
      }
    },
    {
      "cell_type": "code",
      "source": [
        "def add(a,b):\n",
        "  return a+b"
      ],
      "metadata": {
        "id": "Muw17ij44Re7"
      },
      "execution_count": 2,
      "outputs": []
    },
    {
      "cell_type": "code",
      "source": [
        "add(2,3)"
      ],
      "metadata": {
        "id": "bjarcfwxgHeH",
        "outputId": "fb3cc893-8889-4e99-e9b5-182dd544c2ae",
        "colab": {
          "base_uri": "https://localhost:8080/"
        }
      },
      "execution_count": 3,
      "outputs": [
        {
          "output_type": "execute_result",
          "data": {
            "text/plain": [
              "5"
            ]
          },
          "metadata": {},
          "execution_count": 3
        }
      ]
    },
    {
      "cell_type": "markdown",
      "source": [
        "# Lambda function\n",
        "\n",
        "\n",
        "```\n",
        "FunctionName=lambda args:exp\n",
        "```\n",
        "\n"
      ],
      "metadata": {
        "id": "b6I-nifKgMSG"
      }
    },
    {
      "cell_type": "code",
      "source": [
        "mul=lambda x,y:x*y"
      ],
      "metadata": {
        "id": "i4QdQGg3gJxF"
      },
      "execution_count": 12,
      "outputs": []
    },
    {
      "cell_type": "code",
      "source": [
        "mul(2,5)"
      ],
      "metadata": {
        "id": "z1FbnMiEglR1",
        "outputId": "2a71dbe9-980a-4336-f7c1-f78d7f3e9730",
        "colab": {
          "base_uri": "https://localhost:8080/"
        }
      },
      "execution_count": 13,
      "outputs": [
        {
          "output_type": "execute_result",
          "data": {
            "text/plain": [
              "10"
            ]
          },
          "metadata": {},
          "execution_count": 13
        }
      ]
    },
    {
      "cell_type": "code",
      "source": [
        "mul(3,4),mul(78,2),mul(32,3)"
      ],
      "metadata": {
        "id": "kV2Pa-mpg9Oe",
        "outputId": "768d9c34-0d5a-4804-81e7-15a740619532",
        "colab": {
          "base_uri": "https://localhost:8080/"
        }
      },
      "execution_count": 16,
      "outputs": [
        {
          "output_type": "execute_result",
          "data": {
            "text/plain": [
              "(12, 156, 96)"
            ]
          },
          "metadata": {},
          "execution_count": 16
        }
      ]
    },
    {
      "cell_type": "markdown",
      "source": [
        "# List Comprehension\n",
        "\n",
        "\n",
        "```\n",
        "newlist = [expression for item in iterable if condition == True]\n",
        "```\n",
        "```\n",
        "newlist = [expression  if condition == True for item in iterable]\n",
        "```\n",
        "\n"
      ],
      "metadata": {
        "id": "pv-ycRgBjyhw"
      }
    },
    {
      "cell_type": "code",
      "source": [
        "Friends=['sid','khushi','SK','Priyam', 'yashvardhan','Shubham','Sujay']"
      ],
      "metadata": {
        "id": "3EIXnU9BiqHe"
      },
      "execution_count": 28,
      "outputs": []
    },
    {
      "cell_type": "code",
      "source": [
        "l1=['Suryakant' for i in Friends if i=='SK']"
      ],
      "metadata": {
        "id": "NoZyLyFElG7l"
      },
      "execution_count": 30,
      "outputs": []
    },
    {
      "cell_type": "code",
      "source": [
        "l1"
      ],
      "metadata": {
        "id": "VZfNR4cNl3C4",
        "outputId": "dff9aec7-f78a-49df-81e3-461eb0b85fd3",
        "colab": {
          "base_uri": "https://localhost:8080/"
        }
      },
      "execution_count": 33,
      "outputs": [
        {
          "output_type": "execute_result",
          "data": {
            "text/plain": [
              "['Suryakant']"
            ]
          },
          "metadata": {},
          "execution_count": 33
        }
      ]
    },
    {
      "cell_type": "code",
      "source": [
        "Friends2_0=['Suryakant' if i=='SK' else i for i in Friends]\n",
        "Friends2_0"
      ],
      "metadata": {
        "id": "b33eNkW3l7va",
        "outputId": "beef80e5-4447-4b82-9121-3707faa0fa47",
        "colab": {
          "base_uri": "https://localhost:8080/"
        }
      },
      "execution_count": 31,
      "outputs": [
        {
          "output_type": "execute_result",
          "data": {
            "text/plain": [
              "['sid', 'khushi', 'Suryakant', 'Priyam', 'yashvardhan', 'Shubham', 'Sujay']"
            ]
          },
          "metadata": {},
          "execution_count": 31
        }
      ]
    },
    {
      "cell_type": "code",
      "source": [],
      "metadata": {
        "id": "BgSrFKcXm_iA"
      },
      "execution_count": null,
      "outputs": []
    }
  ]
}